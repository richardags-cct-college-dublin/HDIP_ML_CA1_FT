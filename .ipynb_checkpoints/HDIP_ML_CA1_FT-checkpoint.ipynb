{
 "cells": [
  {
   "cell_type": "code",
   "execution_count": 1,
   "id": "0897bc80",
   "metadata": {},
   "outputs": [],
   "source": [
    "# Database: Central Statistics Office\n",
    "# Title: CJQ06 - Recorded crime incidents (Under Reservation)\n",
    "# Source: https://data.cso.ie/table/CJQ06\n",
    "# File name: CJQ06.20231115T191114.csv\n",
    "# Last Updated: 25/09/2023 11:00:00"
   ]
  },
  {
   "cell_type": "markdown",
   "id": "8fddd0ed",
   "metadata": {},
   "source": [
    "# Crime Analysis in Dublin from 2003-Q1 to 2023-Q2"
   ]
  },
  {
   "cell_type": "markdown",
   "id": "d583dbfe",
   "metadata": {},
   "source": [
    "## Quickly Data Analysis"
   ]
  },
  {
   "cell_type": "code",
   "execution_count": 2,
   "id": "f252fbef",
   "metadata": {},
   "outputs": [],
   "source": [
    "#importing dataset\n",
    "import pandas as pd\n",
    "\n",
    "dataframe = pd.read_csv(\"CJQ06.20231115T191114.csv\")"
   ]
  },
  {
   "cell_type": "code",
   "execution_count": 3,
   "id": "0bcd7018",
   "metadata": {},
   "outputs": [
    {
     "name": "stdout",
     "output_type": "stream",
     "text": [
      "Number of Rows: 163016\n",
      "Number of Columns (Attributes): 6\n"
     ]
    }
   ],
   "source": [
    "num_rows, num_cols = dataframe.shape\n",
    "\n",
    "print(\"Number of Rows:\", num_rows)\n",
    "print(\"Number of Columns (Attributes):\", num_cols)"
   ]
  },
  {
   "cell_type": "code",
   "execution_count": 4,
   "id": "5c74d33b",
   "metadata": {},
   "outputs": [
    {
     "name": "stdout",
     "output_type": "stream",
     "text": [
      "<class 'pandas.core.frame.DataFrame'>\n",
      "RangeIndex: 163016 entries, 0 to 163015\n",
      "Data columns (total 6 columns):\n",
      " #   Column           Non-Null Count   Dtype \n",
      "---  ------           --------------   ----- \n",
      " 0   STATISTIC Label  163016 non-null  object\n",
      " 1   Quarter          163016 non-null  object\n",
      " 2   Garda Division   163016 non-null  object\n",
      " 3   Type of Offence  163016 non-null  object\n",
      " 4   UNIT             163016 non-null  object\n",
      " 5   VALUE            163016 non-null  int64 \n",
      "dtypes: int64(1), object(5)\n",
      "memory usage: 7.5+ MB\n"
     ]
    }
   ],
   "source": [
    "#analysing columns types\n",
    "dataframe.info()"
   ]
  },
  {
   "cell_type": "code",
   "execution_count": 5,
   "id": "0d3649fb",
   "metadata": {},
   "outputs": [],
   "source": [
    "#5 categorical (object) and 1 numerical (int64)"
   ]
  },
  {
   "cell_type": "code",
   "execution_count": 6,
   "id": "d3828408",
   "metadata": {},
   "outputs": [
    {
     "data": {
      "text/html": [
       "<div>\n",
       "<style scoped>\n",
       "    .dataframe tbody tr th:only-of-type {\n",
       "        vertical-align: middle;\n",
       "    }\n",
       "\n",
       "    .dataframe tbody tr th {\n",
       "        vertical-align: top;\n",
       "    }\n",
       "\n",
       "    .dataframe thead th {\n",
       "        text-align: right;\n",
       "    }\n",
       "</style>\n",
       "<table border=\"1\" class=\"dataframe\">\n",
       "  <thead>\n",
       "    <tr style=\"text-align: right;\">\n",
       "      <th></th>\n",
       "      <th>STATISTIC Label</th>\n",
       "      <th>Quarter</th>\n",
       "      <th>Garda Division</th>\n",
       "      <th>Type of Offence</th>\n",
       "      <th>UNIT</th>\n",
       "      <th>VALUE</th>\n",
       "    </tr>\n",
       "  </thead>\n",
       "  <tbody>\n",
       "    <tr>\n",
       "      <th>0</th>\n",
       "      <td>Recorded crime incidents (Under Reservation)</td>\n",
       "      <td>2003Q1</td>\n",
       "      <td>Cavan/Monaghan Garda Division</td>\n",
       "      <td>Homicide offences</td>\n",
       "      <td>Number</td>\n",
       "      <td>1</td>\n",
       "    </tr>\n",
       "    <tr>\n",
       "      <th>1</th>\n",
       "      <td>Recorded crime incidents (Under Reservation)</td>\n",
       "      <td>2003Q1</td>\n",
       "      <td>Cavan/Monaghan Garda Division</td>\n",
       "      <td>Murder</td>\n",
       "      <td>Number</td>\n",
       "      <td>0</td>\n",
       "    </tr>\n",
       "    <tr>\n",
       "      <th>2</th>\n",
       "      <td>Recorded crime incidents (Under Reservation)</td>\n",
       "      <td>2003Q1</td>\n",
       "      <td>Cavan/Monaghan Garda Division</td>\n",
       "      <td>Manslaughter</td>\n",
       "      <td>Number</td>\n",
       "      <td>0</td>\n",
       "    </tr>\n",
       "    <tr>\n",
       "      <th>3</th>\n",
       "      <td>Recorded crime incidents (Under Reservation)</td>\n",
       "      <td>2003Q1</td>\n",
       "      <td>Cavan/Monaghan Garda Division</td>\n",
       "      <td>Infanticide</td>\n",
       "      <td>Number</td>\n",
       "      <td>0</td>\n",
       "    </tr>\n",
       "    <tr>\n",
       "      <th>4</th>\n",
       "      <td>Recorded crime incidents (Under Reservation)</td>\n",
       "      <td>2003Q1</td>\n",
       "      <td>Cavan/Monaghan Garda Division</td>\n",
       "      <td>Dangerous driving leading to death</td>\n",
       "      <td>Number</td>\n",
       "      <td>1</td>\n",
       "    </tr>\n",
       "  </tbody>\n",
       "</table>\n",
       "</div>"
      ],
      "text/plain": [
       "                                STATISTIC Label Quarter  \\\n",
       "0  Recorded crime incidents (Under Reservation)  2003Q1   \n",
       "1  Recorded crime incidents (Under Reservation)  2003Q1   \n",
       "2  Recorded crime incidents (Under Reservation)  2003Q1   \n",
       "3  Recorded crime incidents (Under Reservation)  2003Q1   \n",
       "4  Recorded crime incidents (Under Reservation)  2003Q1   \n",
       "\n",
       "                  Garda Division                     Type of Offence    UNIT  \\\n",
       "0  Cavan/Monaghan Garda Division                   Homicide offences  Number   \n",
       "1  Cavan/Monaghan Garda Division                              Murder  Number   \n",
       "2  Cavan/Monaghan Garda Division                        Manslaughter  Number   \n",
       "3  Cavan/Monaghan Garda Division                         Infanticide  Number   \n",
       "4  Cavan/Monaghan Garda Division  Dangerous driving leading to death  Number   \n",
       "\n",
       "   VALUE  \n",
       "0      1  \n",
       "1      0  \n",
       "2      0  \n",
       "3      0  \n",
       "4      1  "
      ]
     },
     "execution_count": 6,
     "metadata": {},
     "output_type": "execute_result"
    }
   ],
   "source": [
    "#analysing head dataframe\n",
    "dataframe.head()"
   ]
  },
  {
   "cell_type": "code",
   "execution_count": 7,
   "id": "bde5ff33",
   "metadata": {},
   "outputs": [
    {
     "data": {
      "text/html": [
       "<div>\n",
       "<style scoped>\n",
       "    .dataframe tbody tr th:only-of-type {\n",
       "        vertical-align: middle;\n",
       "    }\n",
       "\n",
       "    .dataframe tbody tr th {\n",
       "        vertical-align: top;\n",
       "    }\n",
       "\n",
       "    .dataframe thead th {\n",
       "        text-align: right;\n",
       "    }\n",
       "</style>\n",
       "<table border=\"1\" class=\"dataframe\">\n",
       "  <thead>\n",
       "    <tr style=\"text-align: right;\">\n",
       "      <th></th>\n",
       "      <th>STATISTIC Label</th>\n",
       "      <th>Quarter</th>\n",
       "      <th>Garda Division</th>\n",
       "      <th>Type of Offence</th>\n",
       "      <th>UNIT</th>\n",
       "      <th>VALUE</th>\n",
       "    </tr>\n",
       "  </thead>\n",
       "  <tbody>\n",
       "    <tr>\n",
       "      <th>163011</th>\n",
       "      <td>Recorded crime incidents (Under Reservation)</td>\n",
       "      <td>2023Q2</td>\n",
       "      <td>D.M.R. Western Garda Division</td>\n",
       "      <td>Offences against government, justice procedure...</td>\n",
       "      <td>Number</td>\n",
       "      <td>367</td>\n",
       "    </tr>\n",
       "    <tr>\n",
       "      <th>163012</th>\n",
       "      <td>Recorded crime incidents (Under Reservation)</td>\n",
       "      <td>2023Q2</td>\n",
       "      <td>D.M.R. Western Garda Division</td>\n",
       "      <td>Offences against government and its agents</td>\n",
       "      <td>Number</td>\n",
       "      <td>3</td>\n",
       "    </tr>\n",
       "    <tr>\n",
       "      <th>163013</th>\n",
       "      <td>Recorded crime incidents (Under Reservation)</td>\n",
       "      <td>2023Q2</td>\n",
       "      <td>D.M.R. Western Garda Division</td>\n",
       "      <td>Organisation of crime and conspiracy to commit...</td>\n",
       "      <td>Number</td>\n",
       "      <td>0</td>\n",
       "    </tr>\n",
       "    <tr>\n",
       "      <th>163014</th>\n",
       "      <td>Recorded crime incidents (Under Reservation)</td>\n",
       "      <td>2023Q2</td>\n",
       "      <td>D.M.R. Western Garda Division</td>\n",
       "      <td>Perverting the course of justice</td>\n",
       "      <td>Number</td>\n",
       "      <td>1</td>\n",
       "    </tr>\n",
       "    <tr>\n",
       "      <th>163015</th>\n",
       "      <td>Recorded crime incidents (Under Reservation)</td>\n",
       "      <td>2023Q2</td>\n",
       "      <td>D.M.R. Western Garda Division</td>\n",
       "      <td>Offences while in custody, breach of court orders</td>\n",
       "      <td>Number</td>\n",
       "      <td>363</td>\n",
       "    </tr>\n",
       "  </tbody>\n",
       "</table>\n",
       "</div>"
      ],
      "text/plain": [
       "                                     STATISTIC Label Quarter  \\\n",
       "163011  Recorded crime incidents (Under Reservation)  2023Q2   \n",
       "163012  Recorded crime incidents (Under Reservation)  2023Q2   \n",
       "163013  Recorded crime incidents (Under Reservation)  2023Q2   \n",
       "163014  Recorded crime incidents (Under Reservation)  2023Q2   \n",
       "163015  Recorded crime incidents (Under Reservation)  2023Q2   \n",
       "\n",
       "                       Garda Division  \\\n",
       "163011  D.M.R. Western Garda Division   \n",
       "163012  D.M.R. Western Garda Division   \n",
       "163013  D.M.R. Western Garda Division   \n",
       "163014  D.M.R. Western Garda Division   \n",
       "163015  D.M.R. Western Garda Division   \n",
       "\n",
       "                                          Type of Offence    UNIT  VALUE  \n",
       "163011  Offences against government, justice procedure...  Number    367  \n",
       "163012         Offences against government and its agents  Number      3  \n",
       "163013  Organisation of crime and conspiracy to commit...  Number      0  \n",
       "163014                   Perverting the course of justice  Number      1  \n",
       "163015  Offences while in custody, breach of court orders  Number    363  "
      ]
     },
     "execution_count": 7,
     "metadata": {},
     "output_type": "execute_result"
    }
   ],
   "source": [
    "#analysing tail dataframe\n",
    "dataframe.tail()"
   ]
  },
  {
   "cell_type": "markdown",
   "id": "d2144278",
   "metadata": {},
   "source": [
    "# Data Preparation"
   ]
  },
  {
   "cell_type": "markdown",
   "id": "c471c831",
   "metadata": {},
   "source": [
    "## Removing unnecessary columns"
   ]
  },
  {
   "cell_type": "code",
   "execution_count": 8,
   "id": "d13072b2",
   "metadata": {},
   "outputs": [
    {
     "name": "stdout",
     "output_type": "stream",
     "text": [
      "<class 'pandas.core.frame.DataFrame'>\n",
      "RangeIndex: 163016 entries, 0 to 163015\n",
      "Data columns (total 6 columns):\n",
      " #   Column           Non-Null Count   Dtype \n",
      "---  ------           --------------   ----- \n",
      " 0   STATISTIC Label  163016 non-null  object\n",
      " 1   Quarter          163016 non-null  object\n",
      " 2   Garda Division   163016 non-null  object\n",
      " 3   Type of Offence  163016 non-null  object\n",
      " 4   UNIT             163016 non-null  object\n",
      " 5   VALUE            163016 non-null  int64 \n",
      "dtypes: int64(1), object(5)\n",
      "memory usage: 7.5+ MB\n"
     ]
    }
   ],
   "source": [
    "dataframe.info()"
   ]
  },
  {
   "cell_type": "code",
   "execution_count": 9,
   "id": "fe290c4a",
   "metadata": {},
   "outputs": [
    {
     "data": {
      "text/plain": [
       "array(['Recorded crime incidents (Under Reservation)'], dtype=object)"
      ]
     },
     "execution_count": 9,
     "metadata": {},
     "output_type": "execute_result"
    }
   ],
   "source": [
    "dataframe[\"STATISTIC Label\"].unique()"
   ]
  },
  {
   "cell_type": "code",
   "execution_count": 10,
   "id": "57eae962",
   "metadata": {},
   "outputs": [],
   "source": [
    "dataframe = dataframe.drop([\"STATISTIC Label\"], axis=1)"
   ]
  },
  {
   "cell_type": "code",
   "execution_count": 11,
   "id": "9a4b407f",
   "metadata": {},
   "outputs": [
    {
     "data": {
      "text/plain": [
       "array(['Number'], dtype=object)"
      ]
     },
     "execution_count": 11,
     "metadata": {},
     "output_type": "execute_result"
    }
   ],
   "source": [
    "dataframe[\"UNIT\"].unique()"
   ]
  },
  {
   "cell_type": "code",
   "execution_count": 12,
   "id": "b388fc38",
   "metadata": {},
   "outputs": [],
   "source": [
    "dataframe = dataframe.drop([\"UNIT\"], axis=1)"
   ]
  },
  {
   "cell_type": "code",
   "execution_count": 13,
   "id": "5ce5d3ce",
   "metadata": {},
   "outputs": [
    {
     "name": "stdout",
     "output_type": "stream",
     "text": [
      "<class 'pandas.core.frame.DataFrame'>\n",
      "RangeIndex: 163016 entries, 0 to 163015\n",
      "Data columns (total 4 columns):\n",
      " #   Column           Non-Null Count   Dtype \n",
      "---  ------           --------------   ----- \n",
      " 0   Quarter          163016 non-null  object\n",
      " 1   Garda Division   163016 non-null  object\n",
      " 2   Type of Offence  163016 non-null  object\n",
      " 3   VALUE            163016 non-null  int64 \n",
      "dtypes: int64(1), object(3)\n",
      "memory usage: 5.0+ MB\n"
     ]
    }
   ],
   "source": [
    "dataframe.info()"
   ]
  }
 ],
 "metadata": {
  "kernelspec": {
   "display_name": "Python 3 (ipykernel)",
   "language": "python",
   "name": "python3"
  },
  "language_info": {
   "codemirror_mode": {
    "name": "ipython",
    "version": 3
   },
   "file_extension": ".py",
   "mimetype": "text/x-python",
   "name": "python",
   "nbconvert_exporter": "python",
   "pygments_lexer": "ipython3",
   "version": "3.11.5"
  }
 },
 "nbformat": 4,
 "nbformat_minor": 5
}
