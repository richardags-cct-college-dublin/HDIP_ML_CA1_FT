{
 "cells": [
  {
   "cell_type": "code",
   "execution_count": 1,
   "id": "2a627d81",
   "metadata": {},
   "outputs": [],
   "source": [
    "# Database: Central Statistics Office\n",
    "# Title: CJQ06 - Recorded crime incidents (Under Reservation)\n",
    "# Source: https://data.cso.ie/table/CJQ06\n",
    "# File name: CJQ06.20231115T191114.csv\n",
    "# Last Updated: 25/09/2023 11:00:00"
   ]
  },
  {
   "cell_type": "markdown",
   "id": "17b99556",
   "metadata": {},
   "source": [
    "# Crime Analysis in Dublin from 2003-Q1 to 2023-Q2"
   ]
  },
  {
   "cell_type": "markdown",
   "id": "470a5060",
   "metadata": {},
   "source": [
    "## Quickly Data Analysis"
   ]
  },
  {
   "cell_type": "code",
   "execution_count": 2,
   "id": "170ad5a4",
   "metadata": {},
   "outputs": [],
   "source": [
    "#importing dataset\n",
    "import pandas as pd\n",
    "\n",
    "dataframe = pd.read_csv(\"CJQ06.20231115T191114.csv\")"
   ]
  },
  {
   "cell_type": "code",
   "execution_count": 3,
   "id": "5f6200ea",
   "metadata": {},
   "outputs": [
    {
     "name": "stdout",
     "output_type": "stream",
     "text": [
      "Number of Rows: 163016\n",
      "Number of Columns (Attributes): 6\n"
     ]
    }
   ],
   "source": [
    "num_rows, num_cols = dataframe.shape\n",
    "\n",
    "print(\"Number of Rows:\", num_rows)\n",
    "print(\"Number of Columns (Attributes):\", num_cols)"
   ]
  },
  {
   "cell_type": "code",
   "execution_count": 4,
   "id": "ea9c67c1",
   "metadata": {},
   "outputs": [
    {
     "name": "stdout",
     "output_type": "stream",
     "text": [
      "<class 'pandas.core.frame.DataFrame'>\n",
      "RangeIndex: 163016 entries, 0 to 163015\n",
      "Data columns (total 6 columns):\n",
      " #   Column           Non-Null Count   Dtype \n",
      "---  ------           --------------   ----- \n",
      " 0   STATISTIC Label  163016 non-null  object\n",
      " 1   Quarter          163016 non-null  object\n",
      " 2   Garda Division   163016 non-null  object\n",
      " 3   Type of Offence  163016 non-null  object\n",
      " 4   UNIT             163016 non-null  object\n",
      " 5   VALUE            163016 non-null  int64 \n",
      "dtypes: int64(1), object(5)\n",
      "memory usage: 7.5+ MB\n"
     ]
    }
   ],
   "source": [
    "#analysing columns types\n",
    "dataframe.info()"
   ]
  },
  {
   "cell_type": "code",
   "execution_count": 5,
   "id": "e11e2e4d",
   "metadata": {},
   "outputs": [],
   "source": [
    "#5 categorical (object) and 1 numerical (int64)"
   ]
  },
  {
   "cell_type": "code",
   "execution_count": 6,
   "id": "d7d1c295",
   "metadata": {},
   "outputs": [
    {
     "data": {
      "text/html": [
       "<div>\n",
       "<style scoped>\n",
       "    .dataframe tbody tr th:only-of-type {\n",
       "        vertical-align: middle;\n",
       "    }\n",
       "\n",
       "    .dataframe tbody tr th {\n",
       "        vertical-align: top;\n",
       "    }\n",
       "\n",
       "    .dataframe thead th {\n",
       "        text-align: right;\n",
       "    }\n",
       "</style>\n",
       "<table border=\"1\" class=\"dataframe\">\n",
       "  <thead>\n",
       "    <tr style=\"text-align: right;\">\n",
       "      <th></th>\n",
       "      <th>STATISTIC Label</th>\n",
       "      <th>Quarter</th>\n",
       "      <th>Garda Division</th>\n",
       "      <th>Type of Offence</th>\n",
       "      <th>UNIT</th>\n",
       "      <th>VALUE</th>\n",
       "    </tr>\n",
       "  </thead>\n",
       "  <tbody>\n",
       "    <tr>\n",
       "      <th>0</th>\n",
       "      <td>Recorded crime incidents (Under Reservation)</td>\n",
       "      <td>2003Q1</td>\n",
       "      <td>Cavan/Monaghan Garda Division</td>\n",
       "      <td>Homicide offences</td>\n",
       "      <td>Number</td>\n",
       "      <td>1</td>\n",
       "    </tr>\n",
       "    <tr>\n",
       "      <th>1</th>\n",
       "      <td>Recorded crime incidents (Under Reservation)</td>\n",
       "      <td>2003Q1</td>\n",
       "      <td>Cavan/Monaghan Garda Division</td>\n",
       "      <td>Murder</td>\n",
       "      <td>Number</td>\n",
       "      <td>0</td>\n",
       "    </tr>\n",
       "    <tr>\n",
       "      <th>2</th>\n",
       "      <td>Recorded crime incidents (Under Reservation)</td>\n",
       "      <td>2003Q1</td>\n",
       "      <td>Cavan/Monaghan Garda Division</td>\n",
       "      <td>Manslaughter</td>\n",
       "      <td>Number</td>\n",
       "      <td>0</td>\n",
       "    </tr>\n",
       "    <tr>\n",
       "      <th>3</th>\n",
       "      <td>Recorded crime incidents (Under Reservation)</td>\n",
       "      <td>2003Q1</td>\n",
       "      <td>Cavan/Monaghan Garda Division</td>\n",
       "      <td>Infanticide</td>\n",
       "      <td>Number</td>\n",
       "      <td>0</td>\n",
       "    </tr>\n",
       "    <tr>\n",
       "      <th>4</th>\n",
       "      <td>Recorded crime incidents (Under Reservation)</td>\n",
       "      <td>2003Q1</td>\n",
       "      <td>Cavan/Monaghan Garda Division</td>\n",
       "      <td>Dangerous driving leading to death</td>\n",
       "      <td>Number</td>\n",
       "      <td>1</td>\n",
       "    </tr>\n",
       "  </tbody>\n",
       "</table>\n",
       "</div>"
      ],
      "text/plain": [
       "                                STATISTIC Label Quarter  \\\n",
       "0  Recorded crime incidents (Under Reservation)  2003Q1   \n",
       "1  Recorded crime incidents (Under Reservation)  2003Q1   \n",
       "2  Recorded crime incidents (Under Reservation)  2003Q1   \n",
       "3  Recorded crime incidents (Under Reservation)  2003Q1   \n",
       "4  Recorded crime incidents (Under Reservation)  2003Q1   \n",
       "\n",
       "                  Garda Division                     Type of Offence    UNIT  \\\n",
       "0  Cavan/Monaghan Garda Division                   Homicide offences  Number   \n",
       "1  Cavan/Monaghan Garda Division                              Murder  Number   \n",
       "2  Cavan/Monaghan Garda Division                        Manslaughter  Number   \n",
       "3  Cavan/Monaghan Garda Division                         Infanticide  Number   \n",
       "4  Cavan/Monaghan Garda Division  Dangerous driving leading to death  Number   \n",
       "\n",
       "   VALUE  \n",
       "0      1  \n",
       "1      0  \n",
       "2      0  \n",
       "3      0  \n",
       "4      1  "
      ]
     },
     "execution_count": 6,
     "metadata": {},
     "output_type": "execute_result"
    }
   ],
   "source": [
    "#analysing head dataframe\n",
    "dataframe.head()"
   ]
  },
  {
   "cell_type": "code",
   "execution_count": 7,
   "id": "7168d2de",
   "metadata": {},
   "outputs": [
    {
     "data": {
      "text/html": [
       "<div>\n",
       "<style scoped>\n",
       "    .dataframe tbody tr th:only-of-type {\n",
       "        vertical-align: middle;\n",
       "    }\n",
       "\n",
       "    .dataframe tbody tr th {\n",
       "        vertical-align: top;\n",
       "    }\n",
       "\n",
       "    .dataframe thead th {\n",
       "        text-align: right;\n",
       "    }\n",
       "</style>\n",
       "<table border=\"1\" class=\"dataframe\">\n",
       "  <thead>\n",
       "    <tr style=\"text-align: right;\">\n",
       "      <th></th>\n",
       "      <th>STATISTIC Label</th>\n",
       "      <th>Quarter</th>\n",
       "      <th>Garda Division</th>\n",
       "      <th>Type of Offence</th>\n",
       "      <th>UNIT</th>\n",
       "      <th>VALUE</th>\n",
       "    </tr>\n",
       "  </thead>\n",
       "  <tbody>\n",
       "    <tr>\n",
       "      <th>163011</th>\n",
       "      <td>Recorded crime incidents (Under Reservation)</td>\n",
       "      <td>2023Q2</td>\n",
       "      <td>D.M.R. Western Garda Division</td>\n",
       "      <td>Offences against government, justice procedure...</td>\n",
       "      <td>Number</td>\n",
       "      <td>367</td>\n",
       "    </tr>\n",
       "    <tr>\n",
       "      <th>163012</th>\n",
       "      <td>Recorded crime incidents (Under Reservation)</td>\n",
       "      <td>2023Q2</td>\n",
       "      <td>D.M.R. Western Garda Division</td>\n",
       "      <td>Offences against government and its agents</td>\n",
       "      <td>Number</td>\n",
       "      <td>3</td>\n",
       "    </tr>\n",
       "    <tr>\n",
       "      <th>163013</th>\n",
       "      <td>Recorded crime incidents (Under Reservation)</td>\n",
       "      <td>2023Q2</td>\n",
       "      <td>D.M.R. Western Garda Division</td>\n",
       "      <td>Organisation of crime and conspiracy to commit...</td>\n",
       "      <td>Number</td>\n",
       "      <td>0</td>\n",
       "    </tr>\n",
       "    <tr>\n",
       "      <th>163014</th>\n",
       "      <td>Recorded crime incidents (Under Reservation)</td>\n",
       "      <td>2023Q2</td>\n",
       "      <td>D.M.R. Western Garda Division</td>\n",
       "      <td>Perverting the course of justice</td>\n",
       "      <td>Number</td>\n",
       "      <td>1</td>\n",
       "    </tr>\n",
       "    <tr>\n",
       "      <th>163015</th>\n",
       "      <td>Recorded crime incidents (Under Reservation)</td>\n",
       "      <td>2023Q2</td>\n",
       "      <td>D.M.R. Western Garda Division</td>\n",
       "      <td>Offences while in custody, breach of court orders</td>\n",
       "      <td>Number</td>\n",
       "      <td>363</td>\n",
       "    </tr>\n",
       "  </tbody>\n",
       "</table>\n",
       "</div>"
      ],
      "text/plain": [
       "                                     STATISTIC Label Quarter  \\\n",
       "163011  Recorded crime incidents (Under Reservation)  2023Q2   \n",
       "163012  Recorded crime incidents (Under Reservation)  2023Q2   \n",
       "163013  Recorded crime incidents (Under Reservation)  2023Q2   \n",
       "163014  Recorded crime incidents (Under Reservation)  2023Q2   \n",
       "163015  Recorded crime incidents (Under Reservation)  2023Q2   \n",
       "\n",
       "                       Garda Division  \\\n",
       "163011  D.M.R. Western Garda Division   \n",
       "163012  D.M.R. Western Garda Division   \n",
       "163013  D.M.R. Western Garda Division   \n",
       "163014  D.M.R. Western Garda Division   \n",
       "163015  D.M.R. Western Garda Division   \n",
       "\n",
       "                                          Type of Offence    UNIT  VALUE  \n",
       "163011  Offences against government, justice procedure...  Number    367  \n",
       "163012         Offences against government and its agents  Number      3  \n",
       "163013  Organisation of crime and conspiracy to commit...  Number      0  \n",
       "163014                   Perverting the course of justice  Number      1  \n",
       "163015  Offences while in custody, breach of court orders  Number    363  "
      ]
     },
     "execution_count": 7,
     "metadata": {},
     "output_type": "execute_result"
    }
   ],
   "source": [
    "#analysing tail dataframe\n",
    "dataframe.tail()"
   ]
  },
  {
   "cell_type": "markdown",
   "id": "222ca84b",
   "metadata": {},
   "source": [
    "# Data Preparation"
   ]
  },
  {
   "cell_type": "markdown",
   "id": "c8a1d551",
   "metadata": {},
   "source": [
    "## Removing unnecessary columns"
   ]
  },
  {
   "cell_type": "code",
   "execution_count": 8,
   "id": "214be194",
   "metadata": {},
   "outputs": [
    {
     "name": "stdout",
     "output_type": "stream",
     "text": [
      "<class 'pandas.core.frame.DataFrame'>\n",
      "RangeIndex: 163016 entries, 0 to 163015\n",
      "Data columns (total 6 columns):\n",
      " #   Column           Non-Null Count   Dtype \n",
      "---  ------           --------------   ----- \n",
      " 0   STATISTIC Label  163016 non-null  object\n",
      " 1   Quarter          163016 non-null  object\n",
      " 2   Garda Division   163016 non-null  object\n",
      " 3   Type of Offence  163016 non-null  object\n",
      " 4   UNIT             163016 non-null  object\n",
      " 5   VALUE            163016 non-null  int64 \n",
      "dtypes: int64(1), object(5)\n",
      "memory usage: 7.5+ MB\n"
     ]
    }
   ],
   "source": [
    "dataframe.info()"
   ]
  },
  {
   "cell_type": "code",
   "execution_count": 9,
   "id": "744d2e4e",
   "metadata": {},
   "outputs": [
    {
     "data": {
      "text/plain": [
       "array(['Recorded crime incidents (Under Reservation)'], dtype=object)"
      ]
     },
     "execution_count": 9,
     "metadata": {},
     "output_type": "execute_result"
    }
   ],
   "source": [
    "dataframe[\"STATISTIC Label\"].unique()"
   ]
  },
  {
   "cell_type": "code",
   "execution_count": 10,
   "id": "040197f9",
   "metadata": {},
   "outputs": [],
   "source": [
    "dataframe = dataframe.drop([\"STATISTIC Label\"], axis=1)"
   ]
  },
  {
   "cell_type": "code",
   "execution_count": 11,
   "id": "0140cbdc",
   "metadata": {},
   "outputs": [
    {
     "data": {
      "text/plain": [
       "array(['Number'], dtype=object)"
      ]
     },
     "execution_count": 11,
     "metadata": {},
     "output_type": "execute_result"
    }
   ],
   "source": [
    "dataframe[\"UNIT\"].unique()"
   ]
  },
  {
   "cell_type": "code",
   "execution_count": 12,
   "id": "a1b6a424",
   "metadata": {},
   "outputs": [],
   "source": [
    "dataframe = dataframe.drop([\"UNIT\"], axis=1)"
   ]
  },
  {
   "cell_type": "code",
   "execution_count": 13,
   "id": "5f91b4c4",
   "metadata": {},
   "outputs": [
    {
     "name": "stdout",
     "output_type": "stream",
     "text": [
      "<class 'pandas.core.frame.DataFrame'>\n",
      "RangeIndex: 163016 entries, 0 to 163015\n",
      "Data columns (total 4 columns):\n",
      " #   Column           Non-Null Count   Dtype \n",
      "---  ------           --------------   ----- \n",
      " 0   Quarter          163016 non-null  object\n",
      " 1   Garda Division   163016 non-null  object\n",
      " 2   Type of Offence  163016 non-null  object\n",
      " 3   VALUE            163016 non-null  int64 \n",
      "dtypes: int64(1), object(3)\n",
      "memory usage: 5.0+ MB\n"
     ]
    }
   ],
   "source": [
    "dataframe.info()"
   ]
  },
  {
   "cell_type": "markdown",
   "id": "7cba1bdd",
   "metadata": {},
   "source": [
    "## Characterisation of the dataset"
   ]
  },
  {
   "cell_type": "code",
   "execution_count": 14,
   "id": "5369fa8a",
   "metadata": {},
   "outputs": [
    {
     "data": {
      "text/plain": [
       "Quarter            0\n",
       "Garda Division     0\n",
       "Type of Offence    0\n",
       "VALUE              0\n",
       "dtype: int64"
      ]
     },
     "execution_count": 14,
     "metadata": {},
     "output_type": "execute_result"
    }
   ],
   "source": [
    "#check if has null values in target column\n",
    "dataframe.isnull().sum()"
   ]
  },
  {
   "cell_type": "code",
   "execution_count": 15,
   "id": "62aa71fe",
   "metadata": {},
   "outputs": [
    {
     "data": {
      "text/plain": [
       "(49988, 4)"
      ]
     },
     "execution_count": 15,
     "metadata": {},
     "output_type": "execute_result"
    }
   ],
   "source": [
    "#check if has zero values in target column\n",
    "dataframe[dataframe[\"VALUE\"] == 0].shape"
   ]
  },
  {
   "cell_type": "code",
   "execution_count": 16,
   "id": "b3d544c0",
   "metadata": {},
   "outputs": [
    {
     "data": {
      "image/png": "[encoded data removed]",
      "text/plain": [
       "<Figure size 640x480 with 1 Axes>"
      ]
     },
     "metadata": {},
     "output_type": "display_data"
    }
   ],
   "source": [
    "import matplotlib.pyplot as plt\n",
    "\n",
    "# Create two dataframes: one for the entire data and another for zero values\n",
    "target = dataframe[[\"VALUE\"]]\n",
    "zero_values = target[target[\"VALUE\"] == 0]\n",
    "\n",
    "# Values to compare\n",
    "values_to_compare = [100, zero_values.shape[0] / target.shape[0] * 100]\n",
    "\n",
    "# Plot the values in the same candlestick\n",
    "plt.bar('Target Column', values_to_compare[0], color='black', label='Dataframe')\n",
    "plt.bar('Target Column', values_to_compare[1], color='red', label='Zero Values')\n",
    "\n",
    "# Customize the plot\n",
    "plt.ylabel('Percentage of Total Rows')\n",
    "plt.title('Percentage of Total Rows x Zero Values')\n",
    "plt.legend()\n",
    "\n",
    "# Show the plot\n",
    "plt.show()"
   ]
  },
  {
   "cell_type": "code",
   "execution_count": 17,
   "id": "b8877667",
   "metadata": {},
   "outputs": [],
   "source": [
    "#remove zero values on target column\n",
    "dataframe = dataframe[dataframe[\"VALUE\"] != 0]"
   ]
  },
  {
   "cell_type": "markdown",
   "id": "666c0a6a",
   "metadata": {},
   "source": [
    "## Size, number of attributes, number of observations"
   ]
  },
  {
   "cell_type": "code",
   "execution_count": 18,
   "id": "f31142d9",
   "metadata": {},
   "outputs": [
    {
     "name": "stdout",
     "output_type": "stream",
     "text": [
      "Number of Rows: 113028\n",
      "Number of Columns (Attributes): 4\n"
     ]
    }
   ],
   "source": [
    "num_rows, num_cols = dataframe.shape\n",
    "\n",
    "print(\"Number of Rows:\", num_rows)\n",
    "print(\"Number of Columns (Attributes):\", num_cols)"
   ]
  },
  {
   "cell_type": "markdown",
   "id": "0da02862",
   "metadata": {},
   "source": [
    "# EDA and Visualizations"
   ]
  },
  {
   "cell_type": "markdown",
   "id": "4a155de4",
   "metadata": {},
   "source": [
    "## Filtering Garda Divisions"
   ]
  },
  {
   "cell_type": "code",
   "execution_count": 19,
   "id": "4e55c599",
   "metadata": {},
   "outputs": [
    {
     "data": {
      "text/plain": [
       "array(['Cavan/Monaghan Garda Division', 'Donegal Garda Division',\n",
       "       'Sligo/Leitrim Garda Division', 'Louth Garda Division',\n",
       "       'Clare Garda Division', 'Mayo Garda Division',\n",
       "       'Galway Garda Division', 'Roscommon/Longford Garda Division',\n",
       "       'Cork City Garda Division', 'Cork North Garda Division',\n",
       "       'Cork West Garda Division', 'Kerry Garda Division',\n",
       "       'Limerick Garda Division', 'Laois/Offaly Garda Division',\n",
       "       'Meath Garda Division', 'Wicklow Garda Division',\n",
       "       'Westmeath Garda Division', 'Kildare Garda Division',\n",
       "       'Tipperary Garda Division', 'Wexford Garda Division',\n",
       "       'Kilkenny/Carlow Garda Division', 'Waterford Garda Division',\n",
       "       'D.M.R. South Central Garda Division',\n",
       "       'D.M.R. North Central Garda Division',\n",
       "       'D.M.R. Northern Garda Division', 'D.M.R. Southern Garda Division',\n",
       "       'D.M.R. Eastern Garda Division', 'D.M.R. Western Garda Division'],\n",
       "      dtype=object)"
      ]
     },
     "execution_count": 19,
     "metadata": {},
     "output_type": "execute_result"
    }
   ],
   "source": [
    "#list Garda divisions of dataset\n",
    "dataframe[\"Garda Division\"].unique()"
   ]
  },
  {
   "cell_type": "code",
   "execution_count": 20,
   "id": "2b5e2257",
   "metadata": {},
   "outputs": [],
   "source": [
    "#creating a new dataframe with Dublin divisions\n",
    "dublin_divisions = [\"D.M.R. South Central Garda Division\",\n",
    "                    \"D.M.R. North Central Garda Division\",\n",
    "                    \"D.M.R. Northern Garda Division\",\n",
    "                    \"D.M.R. Southern Garda Division\",\n",
    "                    \"D.M.R. Eastern Garda Division\",\n",
    "                    \"D.M.R. Western Garda Division\"]\n",
    "\n",
    "dataframe = dataframe[dataframe[\"Garda Division\"].isin(dublin_divisions)]"
   ]
  },
  {
   "cell_type": "code",
   "execution_count": 21,
   "id": "69dc4f54",
   "metadata": {},
   "outputs": [
    {
     "data": {
      "text/plain": [
       "array(['D.M.R. South Central Garda Division',\n",
       "       'D.M.R. North Central Garda Division',\n",
       "       'D.M.R. Northern Garda Division', 'D.M.R. Southern Garda Division',\n",
       "       'D.M.R. Eastern Garda Division', 'D.M.R. Western Garda Division'],\n",
       "      dtype=object)"
      ]
     },
     "execution_count": 21,
     "metadata": {},
     "output_type": "execute_result"
    }
   ],
   "source": [
    "#show filtered dataframe with Dublin divisions\n",
    "dataframe[\"Garda Division\"].unique()"
   ]
  },
  {
   "cell_type": "code",
   "execution_count": 22,
   "id": "276bc530",
   "metadata": {},
   "outputs": [],
   "source": [
    "## Filtering Crime Offences"
   ]
  },
  {
   "cell_type": "code",
   "execution_count": 23,
   "id": "4da80ed6",
   "metadata": {},
   "outputs": [
    {
     "data": {
      "text/plain": [
       "array(['Homicide offences', 'Murder', 'Manslaughter', 'Sexual offences',\n",
       "       'Rape and sexual assault',\n",
       "       'Attempts/threats to murder, assaults, harassments and related offences',\n",
       "       'Harassment and related offences',\n",
       "       'Assault causing harm, poisoning', 'Other assault',\n",
       "       'Dangerous or negligent acts',\n",
       "       'Driving/in charge of a vehicle while over legal alcohol limit',\n",
       "       'Endangering traffic offences',\n",
       "       'Robbery, extortion and hijacking offences',\n",
       "       'Robbery of an establishment or institution',\n",
       "       'Robbery of cash or goods in transit', 'Robbery from the person',\n",
       "       'Carjacking, hijacking/unlawful seizure of aircraft/vessel',\n",
       "       'Burglary and related offences', 'Aggravated burglary',\n",
       "       'Burglary (not aggravated)',\n",
       "       'Possession of an article (with intent to burgle, steal, demand)',\n",
       "       'Theft and related offences',\n",
       "       'Theft/taking of vehicle and related offences',\n",
       "       'Theft from person', 'Theft from shop',\n",
       "       'Other thefts, handling stolen property',\n",
       "       'Fraud, deception and related offences',\n",
       "       'Controlled drug offences',\n",
       "       'Possession of drugs for sale or supply',\n",
       "       'Possession of drugs for personal use', 'Other drug offences',\n",
       "       'Weapons and Explosives Offences', 'Discharging a firearm',\n",
       "       'Possession of a firearm', 'Offensive weapons offences (n.e.c.)',\n",
       "       'Damage to property and to the environment', 'Arson',\n",
       "       'Criminal damage (not arson)', 'Litter offences',\n",
       "       'Public order and other social code offences',\n",
       "       'Disorderly conduct', 'Trespass offences',\n",
       "       'Liquor licensing offences', 'Prostitution offences',\n",
       "       'Regulated betting/money, collection/trading offences',\n",
       "       'Social code offences (n.e.c.)',\n",
       "       'Offences against government, justice procedures and organisation of crime',\n",
       "       'Offences against government and its agents',\n",
       "       'Perverting the course of justice',\n",
       "       'Offences while in custody, breach of court orders',\n",
       "       'Dangerous driving leading to death', 'Other sexual offences',\n",
       "       'Endangerment with potential for serious harm/death',\n",
       "       'Abandoning a child, child neglect and cruelty',\n",
       "       'Kidnapping and related offences', 'False imprisonment',\n",
       "       'Abduction of person under 16 years of age',\n",
       "       'Blackmail or extortion',\n",
       "       'Organisation of crime and conspiracy to commit crime',\n",
       "       'Dangerous driving causing serious bodily harm',\n",
       "       'Driving/in charge of a vehicle under the influence of drugs',\n",
       "       'False alarm/interference with aircraft or air transport facilities',\n",
       "       'Importation of drugs', 'Murder-attempt',\n",
       "       'Threat to kill or cause serious harm',\n",
       "       'Explosives, chemical weapons offences',\n",
       "       'Cultivation or manufacture of drugs', 'Fireworks offences',\n",
       "       'Human trafficking offences',\n",
       "       'Unseaworthy/dangerous use of boat or ship', 'Infanticide'],\n",
       "      dtype=object)"
      ]
     },
     "execution_count": 23,
     "metadata": {},
     "output_type": "execute_result"
    }
   ],
   "source": [
    "#list crime offences of dataset\n",
    "dataframe[\"Type of Offence\"].unique()"
   ]
  },
  {
   "cell_type": "code",
   "execution_count": 24,
   "id": "f9e3db45",
   "metadata": {},
   "outputs": [
    {
     "data": {
      "text/plain": [
       "71"
      ]
     },
     "execution_count": 24,
     "metadata": {},
     "output_type": "execute_result"
    }
   ],
   "source": [
    "#show number of crime offences of dataset\n",
    "dataframe[\"Type of Offence\"].nunique()"
   ]
  },
  {
   "cell_type": "code",
   "execution_count": 25,
   "id": "55292d49",
   "metadata": {},
   "outputs": [],
   "source": [
    "#creating a new dataframe with crime offences\n",
    "offences = [\"Homicide offences\",\n",
    "            \"Murder\",\n",
    "            \"Manslaughter\",\n",
    "            \"Sexual offences\",\n",
    "            \"Rape and sexual assault\"]\n",
    "\n",
    "dataframe = dataframe[dataframe[\"Type of Offence\"].isin(offences)]"
   ]
  },
  {
   "cell_type": "code",
   "execution_count": 26,
   "id": "8811da4c",
   "metadata": {},
   "outputs": [
    {
     "data": {
      "text/plain": [
       "array(['Homicide offences', 'Murder', 'Manslaughter', 'Sexual offences',\n",
       "       'Rape and sexual assault'], dtype=object)"
      ]
     },
     "execution_count": 26,
     "metadata": {},
     "output_type": "execute_result"
    }
   ],
   "source": [
    "#show filtered dataframe with crime offences\n",
    "dataframe[\"Type of Offence\"].unique()"
   ]
  },
  {
   "cell_type": "markdown",
   "id": "bdb3d160",
   "metadata": {},
   "source": [
    "## Crimes in Dublin from 2003-Q1 to 2023-Q2"
   ]
  },
  {
   "cell_type": "code",
   "execution_count": 27,
   "id": "52292d56",
   "metadata": {},
   "outputs": [
    {
     "data": {
      "text/plain": [
       "<Figure size 1200x800 with 0 Axes>"
      ]
     },
     "metadata": {},
     "output_type": "display_data"
    },
    {
     "data": {
      "image/png": "[encoded data removed]",
      "text/plain": [
       "<Figure size 1600x800 with 1 Axes>"
      ]
     },
     "metadata": {},
     "output_type": "display_data"
    }
   ],
   "source": [
    "import matplotlib.pyplot as plt\n",
    "\n",
    "# Pivot the DataFrame for better plotting\n",
    "pivot_df = dataframe.pivot_table(index=['Quarter'], columns='Type of Offence', values='VALUE', fill_value=0)\n",
    "\n",
    "# Create a grouped bar plot\n",
    "plt.figure(figsize=(12, 8))\n",
    "pivot_df.plot(kind='bar', stacked=True, colormap='viridis', figsize=(16, 8))\n",
    "\n",
    "plt.title('Crimes in Dublin from 2003-Q1 to 2023-Q2')\n",
    "plt.xlabel('')\n",
    "plt.ylabel('Number of Crimes')\n",
    "plt.legend(title='Legend')\n",
    "plt.show()"
   ]
  },
  {
   "cell_type": "code",
   "execution_count": 28,
   "id": "db5c2d44",
   "metadata": {},
   "outputs": [],
   "source": [
    "#we can also filter our dataset by Garda divisions and plot using the code snippet before\n",
    "\n",
    "south_central = dataframe[dataframe[\"Garda Division\"] == \"D.M.R. South Central Garda Division\"]\n",
    "north_central = dataframe[dataframe[\"Garda Division\"] == \"D.M.R. North Central Garda Division\"]\n",
    "northern_central = dataframe[dataframe[\"Garda Division\"] == \"D.M.R. Northern Central Garda Division\"]\n",
    "southern_central = dataframe[dataframe[\"Garda Division\"] == \"D.M.R. Southern Central Garda Division\"]\n",
    "eastern_central = dataframe[dataframe[\"Garda Division\"] == \"D.M.R. Eastern Central Garda Division\"]\n",
    "western_central = dataframe[dataframe[\"Garda Division\"] == \"D.M.R. Western Central Garda Division\"]"
   ]
  },
  {
   "cell_type": "markdown",
   "id": "3d2dd79e",
   "metadata": {},
   "source": [
    "## Splitting relevant features"
   ]
  },
  {
   "cell_type": "code",
   "execution_count": 29,
   "id": "d65c65a7",
   "metadata": {},
   "outputs": [],
   "source": [
    "categorical_features = dataframe[['Quarter', 'Garda Division', 'Type of Offence']]\n",
    "target = dataframe['VALUE']"
   ]
  },
  {
   "cell_type": "code",
   "execution_count": 30,
   "id": "a2abb8f8",
   "metadata": {},
   "outputs": [
    {
     "data": {
      "text/html": [
       "<div>\n",
       "<style scoped>\n",
       "    .dataframe tbody tr th:only-of-type {\n",
       "        vertical-align: middle;\n",
       "    }\n",
       "\n",
       "    .dataframe tbody tr th {\n",
       "        vertical-align: top;\n",
       "    }\n",
       "\n",
       "    .dataframe thead th {\n",
       "        text-align: right;\n",
       "    }\n",
       "</style>\n",
       "<table border=\"1\" class=\"dataframe\">\n",
       "  <thead>\n",
       "    <tr style=\"text-align: right;\">\n",
       "      <th></th>\n",
       "      <th>Quarter</th>\n",
       "      <th>Garda Division</th>\n",
       "      <th>Type of Offence</th>\n",
       "    </tr>\n",
       "  </thead>\n",
       "  <tbody>\n",
       "    <tr>\n",
       "      <th>1562</th>\n",
       "      <td>2003Q1</td>\n",
       "      <td>D.M.R. South Central Garda Division</td>\n",
       "      <td>Homicide offences</td>\n",
       "    </tr>\n",
       "    <tr>\n",
       "      <th>1563</th>\n",
       "      <td>2003Q1</td>\n",
       "      <td>D.M.R. South Central Garda Division</td>\n",
       "      <td>Murder</td>\n",
       "    </tr>\n",
       "    <tr>\n",
       "      <th>1564</th>\n",
       "      <td>2003Q1</td>\n",
       "      <td>D.M.R. South Central Garda Division</td>\n",
       "      <td>Manslaughter</td>\n",
       "    </tr>\n",
       "    <tr>\n",
       "      <th>1567</th>\n",
       "      <td>2003Q1</td>\n",
       "      <td>D.M.R. South Central Garda Division</td>\n",
       "      <td>Sexual offences</td>\n",
       "    </tr>\n",
       "    <tr>\n",
       "      <th>1568</th>\n",
       "      <td>2003Q1</td>\n",
       "      <td>D.M.R. South Central Garda Division</td>\n",
       "      <td>Rape and sexual assault</td>\n",
       "    </tr>\n",
       "    <tr>\n",
       "      <th>...</th>\n",
       "      <td>...</td>\n",
       "      <td>...</td>\n",
       "      <td>...</td>\n",
       "    </tr>\n",
       "    <tr>\n",
       "      <th>162880</th>\n",
       "      <td>2023Q2</td>\n",
       "      <td>D.M.R. Eastern Garda Division</td>\n",
       "      <td>Rape and sexual assault</td>\n",
       "    </tr>\n",
       "    <tr>\n",
       "      <th>162945</th>\n",
       "      <td>2023Q2</td>\n",
       "      <td>D.M.R. Western Garda Division</td>\n",
       "      <td>Homicide offences</td>\n",
       "    </tr>\n",
       "    <tr>\n",
       "      <th>162946</th>\n",
       "      <td>2023Q2</td>\n",
       "      <td>D.M.R. Western Garda Division</td>\n",
       "      <td>Murder</td>\n",
       "    </tr>\n",
       "    <tr>\n",
       "      <th>162950</th>\n",
       "      <td>2023Q2</td>\n",
       "      <td>D.M.R. Western Garda Division</td>\n",
       "      <td>Sexual offences</td>\n",
       "    </tr>\n",
       "    <tr>\n",
       "      <th>162951</th>\n",
       "      <td>2023Q2</td>\n",
       "      <td>D.M.R. Western Garda Division</td>\n",
       "      <td>Rape and sexual assault</td>\n",
       "    </tr>\n",
       "  </tbody>\n",
       "</table>\n",
       "<p>1597 rows × 3 columns</p>\n",
       "</div>"
      ],
      "text/plain": [
       "       Quarter                       Garda Division          Type of Offence\n",
       "1562    2003Q1  D.M.R. South Central Garda Division        Homicide offences\n",
       "1563    2003Q1  D.M.R. South Central Garda Division                   Murder\n",
       "1564    2003Q1  D.M.R. South Central Garda Division             Manslaughter\n",
       "1567    2003Q1  D.M.R. South Central Garda Division          Sexual offences\n",
       "1568    2003Q1  D.M.R. South Central Garda Division  Rape and sexual assault\n",
       "...        ...                                  ...                      ...\n",
       "162880  2023Q2        D.M.R. Eastern Garda Division  Rape and sexual assault\n",
       "162945  2023Q2        D.M.R. Western Garda Division        Homicide offences\n",
       "162946  2023Q2        D.M.R. Western Garda Division                   Murder\n",
       "162950  2023Q2        D.M.R. Western Garda Division          Sexual offences\n",
       "162951  2023Q2        D.M.R. Western Garda Division  Rape and sexual assault\n",
       "\n",
       "[1597 rows x 3 columns]"
      ]
     },
     "execution_count": 30,
     "metadata": {},
     "output_type": "execute_result"
    }
   ],
   "source": [
    "#show categorical features data\n",
    "categorical_features"
   ]
  },
  {
   "cell_type": "code",
   "execution_count": 31,
   "id": "b81b9997",
   "metadata": {},
   "outputs": [
    {
     "data": {
      "text/plain": [
       "1562       2\n",
       "1563       1\n",
       "1564       1\n",
       "1567      13\n",
       "1568      13\n",
       "          ..\n",
       "162880    23\n",
       "162945     1\n",
       "162946     1\n",
       "162950    45\n",
       "162951    34\n",
       "Name: VALUE, Length: 1597, dtype: int64"
      ]
     },
     "execution_count": 31,
     "metadata": {},
     "output_type": "execute_result"
    }
   ],
   "source": [
    "#show target data\n",
    "target"
   ]
  },
  {
   "cell_type": "markdown",
   "id": "70652316",
   "metadata": {},
   "source": [
    "## Converting categorical features in numerical features"
   ]
  },
  {
   "cell_type": "code",
   "execution_count": 32,
   "id": "c6905c23",
   "metadata": {},
   "outputs": [],
   "source": [
    "# Import necessary libraries\n",
    "import pandas as pd\n",
    "from sklearn.preprocessing import LabelEncoder\n",
    "\n",
    "# Encode categorical variables\n",
    "le = LabelEncoder()\n",
    "features = pd.DataFrame()\n",
    "features['Quarter'] = le.fit_transform(categorical_features['Quarter'])\n",
    "features['Garda Division'] = le.fit_transform(categorical_features['Garda Division'])\n",
    "features['Type of Offence'] = le.fit_transform(categorical_features['Type of Offence'])"
   ]
  },
  {
   "cell_type": "code",
   "execution_count": 33,
   "id": "0f57ac0c",
   "metadata": {},
   "outputs": [
    {
     "data": {
      "text/html": [
       "<div>\n",
       "<style scoped>\n",
       "    .dataframe tbody tr th:only-of-type {\n",
       "        vertical-align: middle;\n",
       "    }\n",
       "\n",
       "    .dataframe tbody tr th {\n",
       "        vertical-align: top;\n",
       "    }\n",
       "\n",
       "    .dataframe thead th {\n",
       "        text-align: right;\n",
       "    }\n",
       "</style>\n",
       "<table border=\"1\" class=\"dataframe\">\n",
       "  <thead>\n",
       "    <tr style=\"text-align: right;\">\n",
       "      <th></th>\n",
       "      <th>Quarter</th>\n",
       "      <th>Garda Division</th>\n",
       "      <th>Type of Offence</th>\n",
       "    </tr>\n",
       "  </thead>\n",
       "  <tbody>\n",
       "    <tr>\n",
       "      <th>0</th>\n",
       "      <td>0</td>\n",
       "      <td>3</td>\n",
       "      <td>0</td>\n",
       "    </tr>\n",
       "    <tr>\n",
       "      <th>1</th>\n",
       "      <td>0</td>\n",
       "      <td>3</td>\n",
       "      <td>2</td>\n",
       "    </tr>\n",
       "    <tr>\n",
       "      <th>2</th>\n",
       "      <td>0</td>\n",
       "      <td>3</td>\n",
       "      <td>1</td>\n",
       "    </tr>\n",
       "    <tr>\n",
       "      <th>3</th>\n",
       "      <td>0</td>\n",
       "      <td>3</td>\n",
       "      <td>4</td>\n",
       "    </tr>\n",
       "    <tr>\n",
       "      <th>4</th>\n",
       "      <td>0</td>\n",
       "      <td>3</td>\n",
       "      <td>3</td>\n",
       "    </tr>\n",
       "    <tr>\n",
       "      <th>...</th>\n",
       "      <td>...</td>\n",
       "      <td>...</td>\n",
       "      <td>...</td>\n",
       "    </tr>\n",
       "    <tr>\n",
       "      <th>1592</th>\n",
       "      <td>81</td>\n",
       "      <td>0</td>\n",
       "      <td>3</td>\n",
       "    </tr>\n",
       "    <tr>\n",
       "      <th>1593</th>\n",
       "      <td>81</td>\n",
       "      <td>5</td>\n",
       "      <td>0</td>\n",
       "    </tr>\n",
       "    <tr>\n",
       "      <th>1594</th>\n",
       "      <td>81</td>\n",
       "      <td>5</td>\n",
       "      <td>2</td>\n",
       "    </tr>\n",
       "    <tr>\n",
       "      <th>1595</th>\n",
       "      <td>81</td>\n",
       "      <td>5</td>\n",
       "      <td>4</td>\n",
       "    </tr>\n",
       "    <tr>\n",
       "      <th>1596</th>\n",
       "      <td>81</td>\n",
       "      <td>5</td>\n",
       "      <td>3</td>\n",
       "    </tr>\n",
       "  </tbody>\n",
       "</table>\n",
       "<p>1597 rows × 3 columns</p>\n",
       "</div>"
      ],
      "text/plain": [
       "      Quarter  Garda Division  Type of Offence\n",
       "0           0               3                0\n",
       "1           0               3                2\n",
       "2           0               3                1\n",
       "3           0               3                4\n",
       "4           0               3                3\n",
       "...       ...             ...              ...\n",
       "1592       81               0                3\n",
       "1593       81               5                0\n",
       "1594       81               5                2\n",
       "1595       81               5                4\n",
       "1596       81               5                3\n",
       "\n",
       "[1597 rows x 3 columns]"
      ]
     },
     "execution_count": 33,
     "metadata": {},
     "output_type": "execute_result"
    }
   ],
   "source": [
    "#show numerical features data\n",
    "features"
   ]
  },
  {
   "cell_type": "code",
   "execution_count": null,
   "id": "b06225f5",
   "metadata": {},
   "outputs": [],
   "source": []
  }
 ],
 "metadata": {
  "kernelspec": {
   "display_name": "Python 3 (ipykernel)",
   "language": "python",
   "name": "python3"
  },
  "language_info": {
   "codemirror_mode": {
    "name": "ipython",
    "version": 3
   },
   "file_extension": ".py",
   "mimetype": "text/x-python",
   "name": "python",
   "nbconvert_exporter": "python",
   "pygments_lexer": "ipython3",
   "version": "3.11.5"
  }
 },
 "nbformat": 4,
 "nbformat_minor": 5
}
