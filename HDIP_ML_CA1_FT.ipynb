{
 "cells": [
  {
   "cell_type": "code",
   "execution_count": 1,
   "id": "4483f50c",
   "metadata": {},
   "outputs": [],
   "source": [
    "# Database: Central Statistics Office\n",
    "# Title: CJQ06 - Recorded crime incidents (Under Reservation)\n",
    "# Source: https://data.cso.ie/table/CJQ06\n",
    "# File name: CJQ06.20231115T191114.csv\n",
    "# Last Updated: 25/09/2023 11:00:00"
   ]
  },
  {
   "cell_type": "markdown",
   "id": "ab30f4db",
   "metadata": {},
   "source": [
    "# Crime Analysis in Dublin from 2003-Q1 to 2023-Q2"
   ]
  },
  {
   "cell_type": "markdown",
   "id": "567e9bef",
   "metadata": {},
   "source": [
    "## Quickly Data Analysis"
   ]
  },
  {
   "cell_type": "code",
   "execution_count": 2,
   "id": "1e661d85",
   "metadata": {},
   "outputs": [],
   "source": [
    "#importing dataset\n",
    "import pandas as pd\n",
    "\n",
    "dataframe = pd.read_csv(\"CJQ06.20231115T191114.csv\")"
   ]
  },
  {
   "cell_type": "code",
   "execution_count": 3,
   "id": "bcefdf65",
   "metadata": {},
   "outputs": [
    {
     "name": "stdout",
     "output_type": "stream",
     "text": [
      "Number of Rows: 163016\n",
      "Number of Columns (Attributes): 6\n"
     ]
    }
   ],
   "source": [
    "num_rows, num_cols = dataframe.shape\n",
    "\n",
    "print(\"Number of Rows:\", num_rows)\n",
    "print(\"Number of Columns (Attributes):\", num_cols)"
   ]
  },
  {
   "cell_type": "code",
   "execution_count": 4,
   "id": "0e4a9ce5",
   "metadata": {},
   "outputs": [
    {
     "name": "stdout",
     "output_type": "stream",
     "text": [
      "<class 'pandas.core.frame.DataFrame'>\n",
      "RangeIndex: 163016 entries, 0 to 163015\n",
      "Data columns (total 6 columns):\n",
      " #   Column           Non-Null Count   Dtype \n",
      "---  ------           --------------   ----- \n",
      " 0   STATISTIC Label  163016 non-null  object\n",
      " 1   Quarter          163016 non-null  object\n",
      " 2   Garda Division   163016 non-null  object\n",
      " 3   Type of Offence  163016 non-null  object\n",
      " 4   UNIT             163016 non-null  object\n",
      " 5   VALUE            163016 non-null  int64 \n",
      "dtypes: int64(1), object(5)\n",
      "memory usage: 7.5+ MB\n"
     ]
    }
   ],
   "source": [
    "#analysing columns types\n",
    "dataframe.info()"
   ]
  },
  {
   "cell_type": "code",
   "execution_count": 5,
   "id": "fb4be13c",
   "metadata": {},
   "outputs": [],
   "source": [
    "#5 categorical (object) and 1 numerical (int64)"
   ]
  },
  {
   "cell_type": "code",
   "execution_count": 6,
   "id": "f5dc5b7f",
   "metadata": {},
   "outputs": [
    {
     "data": {
      "text/html": [
       "<div>\n",
       "<style scoped>\n",
       "    .dataframe tbody tr th:only-of-type {\n",
       "        vertical-align: middle;\n",
       "    }\n",
       "\n",
       "    .dataframe tbody tr th {\n",
       "        vertical-align: top;\n",
       "    }\n",
       "\n",
       "    .dataframe thead th {\n",
       "        text-align: right;\n",
       "    }\n",
       "</style>\n",
       "<table border=\"1\" class=\"dataframe\">\n",
       "  <thead>\n",
       "    <tr style=\"text-align: right;\">\n",
       "      <th></th>\n",
       "      <th>STATISTIC Label</th>\n",
       "      <th>Quarter</th>\n",
       "      <th>Garda Division</th>\n",
       "      <th>Type of Offence</th>\n",
       "      <th>UNIT</th>\n",
       "      <th>VALUE</th>\n",
       "    </tr>\n",
       "  </thead>\n",
       "  <tbody>\n",
       "    <tr>\n",
       "      <th>0</th>\n",
       "      <td>Recorded crime incidents (Under Reservation)</td>\n",
       "      <td>2003Q1</td>\n",
       "      <td>Cavan/Monaghan Garda Division</td>\n",
       "      <td>Homicide offences</td>\n",
       "      <td>Number</td>\n",
       "      <td>1</td>\n",
       "    </tr>\n",
       "    <tr>\n",
       "      <th>1</th>\n",
       "      <td>Recorded crime incidents (Under Reservation)</td>\n",
       "      <td>2003Q1</td>\n",
       "      <td>Cavan/Monaghan Garda Division</td>\n",
       "      <td>Murder</td>\n",
       "      <td>Number</td>\n",
       "      <td>0</td>\n",
       "    </tr>\n",
       "    <tr>\n",
       "      <th>2</th>\n",
       "      <td>Recorded crime incidents (Under Reservation)</td>\n",
       "      <td>2003Q1</td>\n",
       "      <td>Cavan/Monaghan Garda Division</td>\n",
       "      <td>Manslaughter</td>\n",
       "      <td>Number</td>\n",
       "      <td>0</td>\n",
       "    </tr>\n",
       "    <tr>\n",
       "      <th>3</th>\n",
       "      <td>Recorded crime incidents (Under Reservation)</td>\n",
       "      <td>2003Q1</td>\n",
       "      <td>Cavan/Monaghan Garda Division</td>\n",
       "      <td>Infanticide</td>\n",
       "      <td>Number</td>\n",
       "      <td>0</td>\n",
       "    </tr>\n",
       "    <tr>\n",
       "      <th>4</th>\n",
       "      <td>Recorded crime incidents (Under Reservation)</td>\n",
       "      <td>2003Q1</td>\n",
       "      <td>Cavan/Monaghan Garda Division</td>\n",
       "      <td>Dangerous driving leading to death</td>\n",
       "      <td>Number</td>\n",
       "      <td>1</td>\n",
       "    </tr>\n",
       "  </tbody>\n",
       "</table>\n",
       "</div>"
      ],
      "text/plain": [
       "                                STATISTIC Label Quarter  \\\n",
       "0  Recorded crime incidents (Under Reservation)  2003Q1   \n",
       "1  Recorded crime incidents (Under Reservation)  2003Q1   \n",
       "2  Recorded crime incidents (Under Reservation)  2003Q1   \n",
       "3  Recorded crime incidents (Under Reservation)  2003Q1   \n",
       "4  Recorded crime incidents (Under Reservation)  2003Q1   \n",
       "\n",
       "                  Garda Division                     Type of Offence    UNIT  \\\n",
       "0  Cavan/Monaghan Garda Division                   Homicide offences  Number   \n",
       "1  Cavan/Monaghan Garda Division                              Murder  Number   \n",
       "2  Cavan/Monaghan Garda Division                        Manslaughter  Number   \n",
       "3  Cavan/Monaghan Garda Division                         Infanticide  Number   \n",
       "4  Cavan/Monaghan Garda Division  Dangerous driving leading to death  Number   \n",
       "\n",
       "   VALUE  \n",
       "0      1  \n",
       "1      0  \n",
       "2      0  \n",
       "3      0  \n",
       "4      1  "
      ]
     },
     "execution_count": 6,
     "metadata": {},
     "output_type": "execute_result"
    }
   ],
   "source": [
    "#analysing head dataframe\n",
    "dataframe.head()"
   ]
  },
  {
   "cell_type": "code",
   "execution_count": 7,
   "id": "b9bff3e7",
   "metadata": {},
   "outputs": [
    {
     "data": {
      "text/html": [
       "<div>\n",
       "<style scoped>\n",
       "    .dataframe tbody tr th:only-of-type {\n",
       "        vertical-align: middle;\n",
       "    }\n",
       "\n",
       "    .dataframe tbody tr th {\n",
       "        vertical-align: top;\n",
       "    }\n",
       "\n",
       "    .dataframe thead th {\n",
       "        text-align: right;\n",
       "    }\n",
       "</style>\n",
       "<table border=\"1\" class=\"dataframe\">\n",
       "  <thead>\n",
       "    <tr style=\"text-align: right;\">\n",
       "      <th></th>\n",
       "      <th>STATISTIC Label</th>\n",
       "      <th>Quarter</th>\n",
       "      <th>Garda Division</th>\n",
       "      <th>Type of Offence</th>\n",
       "      <th>UNIT</th>\n",
       "      <th>VALUE</th>\n",
       "    </tr>\n",
       "  </thead>\n",
       "  <tbody>\n",
       "    <tr>\n",
       "      <th>163011</th>\n",
       "      <td>Recorded crime incidents (Under Reservation)</td>\n",
       "      <td>2023Q2</td>\n",
       "      <td>D.M.R. Western Garda Division</td>\n",
       "      <td>Offences against government, justice procedure...</td>\n",
       "      <td>Number</td>\n",
       "      <td>367</td>\n",
       "    </tr>\n",
       "    <tr>\n",
       "      <th>163012</th>\n",
       "      <td>Recorded crime incidents (Under Reservation)</td>\n",
       "      <td>2023Q2</td>\n",
       "      <td>D.M.R. Western Garda Division</td>\n",
       "      <td>Offences against government and its agents</td>\n",
       "      <td>Number</td>\n",
       "      <td>3</td>\n",
       "    </tr>\n",
       "    <tr>\n",
       "      <th>163013</th>\n",
       "      <td>Recorded crime incidents (Under Reservation)</td>\n",
       "      <td>2023Q2</td>\n",
       "      <td>D.M.R. Western Garda Division</td>\n",
       "      <td>Organisation of crime and conspiracy to commit...</td>\n",
       "      <td>Number</td>\n",
       "      <td>0</td>\n",
       "    </tr>\n",
       "    <tr>\n",
       "      <th>163014</th>\n",
       "      <td>Recorded crime incidents (Under Reservation)</td>\n",
       "      <td>2023Q2</td>\n",
       "      <td>D.M.R. Western Garda Division</td>\n",
       "      <td>Perverting the course of justice</td>\n",
       "      <td>Number</td>\n",
       "      <td>1</td>\n",
       "    </tr>\n",
       "    <tr>\n",
       "      <th>163015</th>\n",
       "      <td>Recorded crime incidents (Under Reservation)</td>\n",
       "      <td>2023Q2</td>\n",
       "      <td>D.M.R. Western Garda Division</td>\n",
       "      <td>Offences while in custody, breach of court orders</td>\n",
       "      <td>Number</td>\n",
       "      <td>363</td>\n",
       "    </tr>\n",
       "  </tbody>\n",
       "</table>\n",
       "</div>"
      ],
      "text/plain": [
       "                                     STATISTIC Label Quarter  \\\n",
       "163011  Recorded crime incidents (Under Reservation)  2023Q2   \n",
       "163012  Recorded crime incidents (Under Reservation)  2023Q2   \n",
       "163013  Recorded crime incidents (Under Reservation)  2023Q2   \n",
       "163014  Recorded crime incidents (Under Reservation)  2023Q2   \n",
       "163015  Recorded crime incidents (Under Reservation)  2023Q2   \n",
       "\n",
       "                       Garda Division  \\\n",
       "163011  D.M.R. Western Garda Division   \n",
       "163012  D.M.R. Western Garda Division   \n",
       "163013  D.M.R. Western Garda Division   \n",
       "163014  D.M.R. Western Garda Division   \n",
       "163015  D.M.R. Western Garda Division   \n",
       "\n",
       "                                          Type of Offence    UNIT  VALUE  \n",
       "163011  Offences against government, justice procedure...  Number    367  \n",
       "163012         Offences against government and its agents  Number      3  \n",
       "163013  Organisation of crime and conspiracy to commit...  Number      0  \n",
       "163014                   Perverting the course of justice  Number      1  \n",
       "163015  Offences while in custody, breach of court orders  Number    363  "
      ]
     },
     "execution_count": 7,
     "metadata": {},
     "output_type": "execute_result"
    }
   ],
   "source": [
    "#analysing tail dataframe\n",
    "dataframe.tail()"
   ]
  },
  {
   "cell_type": "markdown",
   "id": "e667ee7d",
   "metadata": {},
   "source": [
    "# Data Preparation"
   ]
  },
  {
   "cell_type": "markdown",
   "id": "9f63b920",
   "metadata": {},
   "source": [
    "## Removing unnecessary columns"
   ]
  },
  {
   "cell_type": "code",
   "execution_count": 8,
   "id": "6b046e6c",
   "metadata": {},
   "outputs": [
    {
     "name": "stdout",
     "output_type": "stream",
     "text": [
      "<class 'pandas.core.frame.DataFrame'>\n",
      "RangeIndex: 163016 entries, 0 to 163015\n",
      "Data columns (total 6 columns):\n",
      " #   Column           Non-Null Count   Dtype \n",
      "---  ------           --------------   ----- \n",
      " 0   STATISTIC Label  163016 non-null  object\n",
      " 1   Quarter          163016 non-null  object\n",
      " 2   Garda Division   163016 non-null  object\n",
      " 3   Type of Offence  163016 non-null  object\n",
      " 4   UNIT             163016 non-null  object\n",
      " 5   VALUE            163016 non-null  int64 \n",
      "dtypes: int64(1), object(5)\n",
      "memory usage: 7.5+ MB\n"
     ]
    }
   ],
   "source": [
    "dataframe.info()"
   ]
  },
  {
   "cell_type": "code",
   "execution_count": 9,
   "id": "cdebcb8c",
   "metadata": {},
   "outputs": [
    {
     "data": {
      "text/plain": [
       "array(['Recorded crime incidents (Under Reservation)'], dtype=object)"
      ]
     },
     "execution_count": 9,
     "metadata": {},
     "output_type": "execute_result"
    }
   ],
   "source": [
    "dataframe[\"STATISTIC Label\"].unique()"
   ]
  },
  {
   "cell_type": "code",
   "execution_count": 10,
   "id": "e70aa027",
   "metadata": {},
   "outputs": [],
   "source": [
    "dataframe = dataframe.drop([\"STATISTIC Label\"], axis=1)"
   ]
  },
  {
   "cell_type": "code",
   "execution_count": 11,
   "id": "72055b20",
   "metadata": {},
   "outputs": [
    {
     "data": {
      "text/plain": [
       "array(['Number'], dtype=object)"
      ]
     },
     "execution_count": 11,
     "metadata": {},
     "output_type": "execute_result"
    }
   ],
   "source": [
    "dataframe[\"UNIT\"].unique()"
   ]
  },
  {
   "cell_type": "code",
   "execution_count": 12,
   "id": "a7930635",
   "metadata": {},
   "outputs": [],
   "source": [
    "dataframe = dataframe.drop([\"UNIT\"], axis=1)"
   ]
  },
  {
   "cell_type": "code",
   "execution_count": 13,
   "id": "e5b0d22d",
   "metadata": {},
   "outputs": [
    {
     "name": "stdout",
     "output_type": "stream",
     "text": [
      "<class 'pandas.core.frame.DataFrame'>\n",
      "RangeIndex: 163016 entries, 0 to 163015\n",
      "Data columns (total 4 columns):\n",
      " #   Column           Non-Null Count   Dtype \n",
      "---  ------           --------------   ----- \n",
      " 0   Quarter          163016 non-null  object\n",
      " 1   Garda Division   163016 non-null  object\n",
      " 2   Type of Offence  163016 non-null  object\n",
      " 3   VALUE            163016 non-null  int64 \n",
      "dtypes: int64(1), object(3)\n",
      "memory usage: 5.0+ MB\n"
     ]
    }
   ],
   "source": [
    "dataframe.info()"
   ]
  },
  {
   "cell_type": "markdown",
   "id": "3a50bb34",
   "metadata": {},
   "source": [
    "## Characterisation of the dataset"
   ]
  },
  {
   "cell_type": "code",
   "execution_count": 14,
   "id": "14e29ae0",
   "metadata": {},
   "outputs": [
    {
     "data": {
      "text/plain": [
       "Quarter            0\n",
       "Garda Division     0\n",
       "Type of Offence    0\n",
       "VALUE              0\n",
       "dtype: int64"
      ]
     },
     "execution_count": 14,
     "metadata": {},
     "output_type": "execute_result"
    }
   ],
   "source": [
    "#check if has null values in target column\n",
    "dataframe.isnull().sum()"
   ]
  },
  {
   "cell_type": "code",
   "execution_count": 15,
   "id": "688e89cf",
   "metadata": {},
   "outputs": [
    {
     "data": {
      "text/plain": [
       "(49988, 4)"
      ]
     },
     "execution_count": 15,
     "metadata": {},
     "output_type": "execute_result"
    }
   ],
   "source": [
    "#check if has zero values in target column\n",
    "dataframe[dataframe[\"VALUE\"] == 0].shape"
   ]
  },
  {
   "cell_type": "code",
   "execution_count": 16,
   "id": "0f07deef",
   "metadata": {},
   "outputs": [
    {
     "data": {
      "image/png": "[encoded data removed]",
      "text/plain": [
       "<Figure size 640x480 with 1 Axes>"
      ]
     },
     "metadata": {},
     "output_type": "display_data"
    }
   ],
   "source": [
    "import matplotlib.pyplot as plt\n",
    "\n",
    "# Create two dataframes: one for the entire data and another for zero values\n",
    "target = dataframe[[\"VALUE\"]]\n",
    "zero_values = target[target[\"VALUE\"] == 0]\n",
    "\n",
    "# Values to compare\n",
    "values_to_compare = [100, zero_values.shape[0] / target.shape[0] * 100]\n",
    "\n",
    "# Plot the values in the same candlestick\n",
    "plt.bar('Target Column', values_to_compare[0], color='black', label='Dataframe')\n",
    "plt.bar('Target Column', values_to_compare[1], color='red', label='Zero Values')\n",
    "\n",
    "# Customize the plot\n",
    "plt.ylabel('Percentage of Total Rows')\n",
    "plt.title('Percentage of Total Rows x Zero Values')\n",
    "plt.legend()\n",
    "\n",
    "# Show the plot\n",
    "plt.show()"
   ]
  },
  {
   "cell_type": "code",
   "execution_count": 17,
   "id": "f583af3f",
   "metadata": {},
   "outputs": [],
   "source": [
    "#remove zero values on target column\n",
    "dataframe = dataframe[dataframe[\"VALUE\"] != 0]"
   ]
  },
  {
   "cell_type": "markdown",
   "id": "e154dd59",
   "metadata": {},
   "source": [
    "## Size, number of attributes, number of observations"
   ]
  },
  {
   "cell_type": "code",
   "execution_count": 18,
   "id": "d68da353",
   "metadata": {},
   "outputs": [
    {
     "name": "stdout",
     "output_type": "stream",
     "text": [
      "Number of Rows: 113028\n",
      "Number of Columns (Attributes): 4\n"
     ]
    }
   ],
   "source": [
    "num_rows, num_cols = dataframe.shape\n",
    "\n",
    "print(\"Number of Rows:\", num_rows)\n",
    "print(\"Number of Columns (Attributes):\", num_cols)"
   ]
  },
  {
   "cell_type": "markdown",
   "id": "b6495f46",
   "metadata": {},
   "source": [
    "# EDA and Visualizations"
   ]
  },
  {
   "cell_type": "markdown",
   "id": "a62662a0",
   "metadata": {},
   "source": [
    "## Filtering Garda Divisions"
   ]
  },
  {
   "cell_type": "code",
   "execution_count": 19,
   "id": "10f42c70",
   "metadata": {},
   "outputs": [
    {
     "data": {
      "text/plain": [
       "array(['Cavan/Monaghan Garda Division', 'Donegal Garda Division',\n",
       "       'Sligo/Leitrim Garda Division', 'Louth Garda Division',\n",
       "       'Clare Garda Division', 'Mayo Garda Division',\n",
       "       'Galway Garda Division', 'Roscommon/Longford Garda Division',\n",
       "       'Cork City Garda Division', 'Cork North Garda Division',\n",
       "       'Cork West Garda Division', 'Kerry Garda Division',\n",
       "       'Limerick Garda Division', 'Laois/Offaly Garda Division',\n",
       "       'Meath Garda Division', 'Wicklow Garda Division',\n",
       "       'Westmeath Garda Division', 'Kildare Garda Division',\n",
       "       'Tipperary Garda Division', 'Wexford Garda Division',\n",
       "       'Kilkenny/Carlow Garda Division', 'Waterford Garda Division',\n",
       "       'D.M.R. South Central Garda Division',\n",
       "       'D.M.R. North Central Garda Division',\n",
       "       'D.M.R. Northern Garda Division', 'D.M.R. Southern Garda Division',\n",
       "       'D.M.R. Eastern Garda Division', 'D.M.R. Western Garda Division'],\n",
       "      dtype=object)"
      ]
     },
     "execution_count": 19,
     "metadata": {},
     "output_type": "execute_result"
    }
   ],
   "source": [
    "#list Garda divisions of dataset\n",
    "dataframe[\"Garda Division\"].unique()"
   ]
  },
  {
   "cell_type": "code",
   "execution_count": 20,
   "id": "353def4b",
   "metadata": {},
   "outputs": [],
   "source": [
    "#creating a new dataframe with Dublin divisions\n",
    "dublin_divisions = [\"D.M.R. South Central Garda Division\",\n",
    "                    \"D.M.R. North Central Garda Division\",\n",
    "                    \"D.M.R. Northern Garda Division\",\n",
    "                    \"D.M.R. Southern Garda Division\",\n",
    "                    \"D.M.R. Eastern Garda Division\",\n",
    "                    \"D.M.R. Western Garda Division\"]\n",
    "\n",
    "dataframe = dataframe[dataframe[\"Garda Division\"].isin(dublin_divisions)]"
   ]
  },
  {
   "cell_type": "code",
   "execution_count": 21,
   "id": "70aadc65",
   "metadata": {},
   "outputs": [
    {
     "data": {
      "text/plain": [
       "array(['D.M.R. South Central Garda Division',\n",
       "       'D.M.R. North Central Garda Division',\n",
       "       'D.M.R. Northern Garda Division', 'D.M.R. Southern Garda Division',\n",
       "       'D.M.R. Eastern Garda Division', 'D.M.R. Western Garda Division'],\n",
       "      dtype=object)"
      ]
     },
     "execution_count": 21,
     "metadata": {},
     "output_type": "execute_result"
    }
   ],
   "source": [
    "#show filtered dataframe with Dublin divisions\n",
    "dataframe[\"Garda Division\"].unique()"
   ]
  },
  {
   "cell_type": "code",
   "execution_count": 22,
   "id": "1ba5323d",
   "metadata": {},
   "outputs": [],
   "source": [
    "## Filtering Crime Offences"
   ]
  },
  {
   "cell_type": "code",
   "execution_count": 23,
   "id": "1b02a896",
   "metadata": {},
   "outputs": [
    {
     "data": {
      "text/plain": [
       "array(['Homicide offences', 'Murder', 'Manslaughter', 'Sexual offences',\n",
       "       'Rape and sexual assault',\n",
       "       'Attempts/threats to murder, assaults, harassments and related offences',\n",
       "       'Harassment and related offences',\n",
       "       'Assault causing harm, poisoning', 'Other assault',\n",
       "       'Dangerous or negligent acts',\n",
       "       'Driving/in charge of a vehicle while over legal alcohol limit',\n",
       "       'Endangering traffic offences',\n",
       "       'Robbery, extortion and hijacking offences',\n",
       "       'Robbery of an establishment or institution',\n",
       "       'Robbery of cash or goods in transit', 'Robbery from the person',\n",
       "       'Carjacking, hijacking/unlawful seizure of aircraft/vessel',\n",
       "       'Burglary and related offences', 'Aggravated burglary',\n",
       "       'Burglary (not aggravated)',\n",
       "       'Possession of an article (with intent to burgle, steal, demand)',\n",
       "       'Theft and related offences',\n",
       "       'Theft/taking of vehicle and related offences',\n",
       "       'Theft from person', 'Theft from shop',\n",
       "       'Other thefts, handling stolen property',\n",
       "       'Fraud, deception and related offences',\n",
       "       'Controlled drug offences',\n",
       "       'Possession of drugs for sale or supply',\n",
       "       'Possession of drugs for personal use', 'Other drug offences',\n",
       "       'Weapons and Explosives Offences', 'Discharging a firearm',\n",
       "       'Possession of a firearm', 'Offensive weapons offences (n.e.c.)',\n",
       "       'Damage to property and to the environment', 'Arson',\n",
       "       'Criminal damage (not arson)', 'Litter offences',\n",
       "       'Public order and other social code offences',\n",
       "       'Disorderly conduct', 'Trespass offences',\n",
       "       'Liquor licensing offences', 'Prostitution offences',\n",
       "       'Regulated betting/money, collection/trading offences',\n",
       "       'Social code offences (n.e.c.)',\n",
       "       'Offences against government, justice procedures and organisation of crime',\n",
       "       'Offences against government and its agents',\n",
       "       'Perverting the course of justice',\n",
       "       'Offences while in custody, breach of court orders',\n",
       "       'Dangerous driving leading to death', 'Other sexual offences',\n",
       "       'Endangerment with potential for serious harm/death',\n",
       "       'Abandoning a child, child neglect and cruelty',\n",
       "       'Kidnapping and related offences', 'False imprisonment',\n",
       "       'Abduction of person under 16 years of age',\n",
       "       'Blackmail or extortion',\n",
       "       'Organisation of crime and conspiracy to commit crime',\n",
       "       'Dangerous driving causing serious bodily harm',\n",
       "       'Driving/in charge of a vehicle under the influence of drugs',\n",
       "       'False alarm/interference with aircraft or air transport facilities',\n",
       "       'Importation of drugs', 'Murder-attempt',\n",
       "       'Threat to kill or cause serious harm',\n",
       "       'Explosives, chemical weapons offences',\n",
       "       'Cultivation or manufacture of drugs', 'Fireworks offences',\n",
       "       'Human trafficking offences',\n",
       "       'Unseaworthy/dangerous use of boat or ship', 'Infanticide'],\n",
       "      dtype=object)"
      ]
     },
     "execution_count": 23,
     "metadata": {},
     "output_type": "execute_result"
    }
   ],
   "source": [
    "#list crime offences of dataset\n",
    "dataframe[\"Type of Offence\"].unique()"
   ]
  },
  {
   "cell_type": "code",
   "execution_count": 24,
   "id": "1fd5bda2",
   "metadata": {},
   "outputs": [
    {
     "data": {
      "text/plain": [
       "71"
      ]
     },
     "execution_count": 24,
     "metadata": {},
     "output_type": "execute_result"
    }
   ],
   "source": [
    "#show number of crime offences of dataset\n",
    "dataframe[\"Type of Offence\"].nunique()"
   ]
  },
  {
   "cell_type": "code",
   "execution_count": 25,
   "id": "51317a83",
   "metadata": {},
   "outputs": [],
   "source": [
    "#creating a new dataframe with crime offences\n",
    "offences = [\"Homicide offences\",\n",
    "            \"Murder\",\n",
    "            \"Manslaughter\",\n",
    "            \"Sexual offences\",\n",
    "            \"Rape and sexual assault\"]\n",
    "\n",
    "dataframe = dataframe[dataframe[\"Type of Offence\"].isin(offences)]"
   ]
  },
  {
   "cell_type": "code",
   "execution_count": 26,
   "id": "3c92ed07",
   "metadata": {},
   "outputs": [
    {
     "data": {
      "text/plain": [
       "array(['Homicide offences', 'Murder', 'Manslaughter', 'Sexual offences',\n",
       "       'Rape and sexual assault'], dtype=object)"
      ]
     },
     "execution_count": 26,
     "metadata": {},
     "output_type": "execute_result"
    }
   ],
   "source": [
    "#show filtered dataframe with crime offences\n",
    "dataframe[\"Type of Offence\"].unique()"
   ]
  },
  {
   "cell_type": "code",
   "execution_count": null,
   "id": "6e4c63f7",
   "metadata": {},
   "outputs": [],
   "source": []
  }
 ],
 "metadata": {
  "kernelspec": {
   "display_name": "Python 3 (ipykernel)",
   "language": "python",
   "name": "python3"
  },
  "language_info": {
   "codemirror_mode": {
    "name": "ipython",
    "version": 3
   },
   "file_extension": ".py",
   "mimetype": "text/x-python",
   "name": "python",
   "nbconvert_exporter": "python",
   "pygments_lexer": "ipython3",
   "version": "3.11.5"
  }
 },
 "nbformat": 4,
 "nbformat_minor": 5
}
